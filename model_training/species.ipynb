{
 "cells": [
  {
   "metadata": {
    "ExecuteTime": {
     "end_time": "2024-11-19T16:44:12.409319Z",
     "start_time": "2024-11-19T16:44:12.383855Z"
    }
   },
   "cell_type": "code",
   "source": [
    "import requests\n",
    "import json\n",
    "import os"
   ],
   "id": "7ae4ee1ef3fd1025",
   "outputs": [],
   "execution_count": 22
  },
  {
   "cell_type": "code",
   "id": "initial_id",
   "metadata": {
    "collapsed": true,
    "ExecuteTime": {
     "end_time": "2024-11-19T09:20:20.915987Z",
     "start_time": "2024-11-19T09:20:20.901983Z"
    }
   },
   "source": [
    "# Lista polskich nazw\n",
    "spec_name_pl = [\n",
    "    \"pierwiosnek\",\n",
    "    \"dzięcioł zielony\",\n",
    "    \"synogarlica\",\n",
    "    \"zięba\",\n",
    "    \"kopciuszek\",\n",
    "    \"wrona siwa\",\n",
    "    \"bocian biały\",\n",
    "    \"wróbel\",\n",
    "    \"sikorka modra\",\n",
    "    \"skowronek\",\n",
    "    \"jaskółka\",\n",
    "    \"jerzyk\",\n",
    "    \"słowik\",\n",
    "    \"jemiołuszka\",\n",
    "    \"kos\"\n",
    "]\n",
    "\n",
    "# Lista łacińskich nazw\n",
    "spec_name = [\n",
    "    \"Phylloscopus collybita\",\n",
    "    \"Picus viridis\",\n",
    "    \"Streptopelia decaocto\",\n",
    "    \"Fringilla coelebs\",\n",
    "    \"Phoenicurus ochruros\",\n",
    "    \"Corvus cornix\",\n",
    "    \"Ciconia ciconia\",\n",
    "    \"Passer domesticus\",\n",
    "    \"Cyanistes caeruleus\",\n",
    "    \"Alauda arvensis\",\n",
    "    \"Hirundo rustica\",\n",
    "    \"Apus apus\",\n",
    "    \"Luscinia megarhynchos\",\n",
    "    \"Bombycilla garrulus\",\n",
    "    \"Turdus merula\"\n",
    "]\n",
    "\n"
   ],
   "outputs": [],
   "execution_count": 2
  },
  {
   "metadata": {
    "ExecuteTime": {
     "end_time": "2024-11-19T18:12:10.481619Z",
     "start_time": "2024-11-19T18:12:10.474617Z"
    }
   },
   "cell_type": "code",
   "source": [
    "with open(\"spec_name_pl.json\", \"w\") as file:\n",
    "    json.dump(spec_name_pl, file)\n",
    "\n",
    "with open(\"spec_name.json\", \"w\") as file:\n",
    "    json.dump(spec_name, file)"
   ],
   "id": "acb1b0e8a0a618f7",
   "outputs": [],
   "execution_count": 25
  },
  {
   "metadata": {
    "ExecuteTime": {
     "end_time": "2024-11-18T15:00:25.624578Z",
     "start_time": "2024-11-18T15:00:25.610800Z"
    }
   },
   "cell_type": "code",
   "source": [
    "base_url = \"https://www.xeno-canto.org/api/2/recordings\"\n",
    "len_gt = 15\n",
    "q = \"A\""
   ],
   "id": "58de57b8083ebc34",
   "outputs": [],
   "execution_count": 4
  },
  {
   "metadata": {
    "ExecuteTime": {
     "end_time": "2024-11-18T15:06:17.690108Z",
     "start_time": "2024-11-18T15:00:25.626116Z"
    }
   },
   "cell_type": "code",
   "source": [
    "for name in spec_name:\n",
    "    page = 1\n",
    "    recordings = []\n",
    "    # name = spec_name[i]\n",
    "    temp = name.split()\n",
    "    while True:\n",
    "        params = {  \n",
    "            \"query\": f\"{name} len_gt:{len_gt}\",\n",
    "            \"page\": page\n",
    "        }\n",
    "        response = requests.get(base_url, params=params)\n",
    "        if response.status_code == 200:\n",
    "            data = response.json()\n",
    "            recordings.extend(data['recordings'])\n",
    "            num_pages = data['numPages']\n",
    "            page += 1\n",
    "            if page > num_pages:\n",
    "                print(f\"{name}, {data['numPages']}, {page-1}, {data['numRecordings']}, {len(recordings)}\")\n",
    "                break\n",
    "        else:\n",
    "            print(f\"Failed to retrieve data: {name}, from page {page}\", response.status_code)      \n",
    "    with open(f'data_{temp[0]}-{temp[1]}.json', 'w') as f:\n",
    "        json.dump(recordings, f)"
   ],
   "id": "6f46b8b45eec8b85",
   "outputs": [
    {
     "name": "stdout",
     "output_type": "stream",
     "text": [
      "Phylloscopus collybita, 13, 13, 6028, 6028\n",
      "Picus viridis, 1, 1, 437, 437\n",
      "Streptopelia decaocto, 2, 2, 655, 655\n",
      "Fringilla coelebs, 13, 13, 6382, 6382\n",
      "Phoenicurus ochruros, 3, 3, 1157, 1157\n",
      "Corvus cornix, 3, 3, 1163, 1163\n",
      "Ciconia ciconia, 1, 1, 94, 94\n",
      "Passer domesticus, 5, 5, 2340, 2340\n",
      "Cyanistes caeruleus, 8, 8, 3994, 3994\n",
      "Alauda arvensis, 5, 5, 2410, 2410\n",
      "Hirundo rustica, 3, 3, 1369, 1369\n",
      "Apus apus, 1, 1, 435, 435\n",
      "Luscinia megarhynchos, 5, 5, 2488, 2488\n",
      "Bombycilla garrulus, 1, 1, 271, 271\n",
      "Turdus merula, 13, 13, 6024, 6024\n"
     ]
    }
   ],
   "execution_count": 5
  },
  {
   "metadata": {
    "ExecuteTime": {
     "end_time": "2024-11-19T09:29:29.627978Z",
     "start_time": "2024-11-19T09:29:24.794903Z"
    }
   },
   "cell_type": "code",
   "source": [
    "for specie in spec_name:\n",
    "    temp = specie.split()\n",
    "    with open (f'data/jsons/data_{temp[0]}-{temp[1]}.json', 'r') as f:\n",
    "        data = json.load(f)\n",
    "    for dict in data:\n",
    "        dict['also'] = list(filter(lambda x: len(x) == 0, dict['also']))\n",
    "    with open (f'data/jsons/data_{temp[0]}-{temp[1]}.json', 'w') as g:\n",
    "        json.dump(data, g)\n",
    "    "
   ],
   "id": "30106a79541de663",
   "outputs": [],
   "execution_count": 7
  },
  {
   "metadata": {
    "ExecuteTime": {
     "end_time": "2024-11-19T09:33:07.777556Z",
     "start_time": "2024-11-19T09:33:07.230226Z"
    }
   },
   "cell_type": "code",
   "source": [
    "#sprawdzenie, czy usunieto wszystkie rekordy z niepustymi listami w 'also'\n",
    "for specie in spec_name:\n",
    "    temp = specie.split()\n",
    "    with open (f'data/jsons/data_{temp[0]}-{temp[1]}.json', 'r') as f:\n",
    "        data = json.load(f)\n",
    "    d = 0\n",
    "    for dict in data:\n",
    "        if not dict['also']:\n",
    "            d +=1\n",
    "    print(specie, d, len(data))"
   ],
   "id": "7e454b0265111c8f",
   "outputs": [
    {
     "name": "stdout",
     "output_type": "stream",
     "text": [
      "Phylloscopus collybita 6028 6028\n",
      "Picus viridis 437 437\n",
      "Streptopelia decaocto 655 655\n",
      "Fringilla coelebs 6382 6382\n",
      "Phoenicurus ochruros 1157 1157\n",
      "Corvus cornix 1163 1163\n",
      "Ciconia ciconia 94 94\n",
      "Passer domesticus 2340 2340\n",
      "Cyanistes caeruleus 3994 3994\n",
      "Alauda arvensis 2410 2410\n",
      "Hirundo rustica 1369 1369\n",
      "Apus apus 435 435\n",
      "Luscinia megarhynchos 2488 2488\n",
      "Bombycilla garrulus 271 271\n",
      "Turdus merula 6024 6024\n"
     ]
    }
   ],
   "execution_count": 9
  },
  {
   "metadata": {
    "ExecuteTime": {
     "end_time": "2024-11-19T09:45:23.189176Z",
     "start_time": "2024-11-19T09:45:23.168170Z"
    }
   },
   "cell_type": "code",
   "source": [
    "#foldery na nagrania\n",
    "for specie in spec_name:\n",
    "    temp = specie.split()\n",
    "    folder = os.path.join('data/recordings/unmodified', f'{temp[0]}-{temp[1]}')\n",
    "    os.makedirs(folder, exist_ok=True)"
   ],
   "id": "3f97fbfbbd25a5e0",
   "outputs": [],
   "execution_count": 15
  },
  {
   "metadata": {
    "ExecuteTime": {
     "end_time": "2024-11-19T11:18:04.678175Z",
     "start_time": "2024-11-19T10:02:26.932853Z"
    }
   },
   "cell_type": "code",
   "source": [
    "#pobieranie nagran\n",
    "max_files = 300\n",
    "for specie in spec_name:\n",
    "    temp = specie.split()\n",
    "    with open (f'data/jsons/data_{temp[0]}-{temp[1]}.json', 'r') as f:\n",
    "        data = json.load(f)\n",
    "    count = 0\n",
    "    for dict in data:\n",
    "        if count >= max_files:\n",
    "            break\n",
    "        link = dict['file']\n",
    "        filename = link.split(\"/\")[-2] + \".mp3\"\n",
    "        filepath = os.path.join(f'data/recordings/unmodified/{temp[0]}-{temp[1]}', filename)  # Pełna ścieżka pliku\n",
    "\n",
    "        # Pobierz plik\n",
    "        try:\n",
    "            response = requests.get(link, stream=True)\n",
    "            response.raise_for_status()  # Sprawdzenie, czy nie było błędów podczas pobierania\n",
    "            with open(filepath, 'wb') as output_file:\n",
    "                for chunk in response.iter_content(chunk_size=8192):\n",
    "                    output_file.write(chunk)\n",
    "            count += 1\n",
    "            # print(f\"Pobrano: {filepath}\")\n",
    "        except requests.RequestException as e:\n",
    "            print(f\"Nie udało się pobrać {link}: {e}\")"
   ],
   "id": "6973525240116a8e",
   "outputs": [
    {
     "name": "stdout",
     "output_type": "stream",
     "text": [
      "Nie udało się pobrać https://xeno-canto.org/907043/download: 504 Server Error: Gateway Timeout for url: https://xeno-canto.org/907043/download\n",
      "Nie udało się pobrać https://xeno-canto.org/914256/download: 404 Client Error: Not Found for url: https://xeno-canto.org/914256/download\n",
      "Nie udało się pobrać https://xeno-canto.org/836979/download: 504 Server Error: Gateway Timeout for url: https://xeno-canto.org/836979/download\n"
     ]
    }
   ],
   "execution_count": 21
  },
  {
   "metadata": {},
   "cell_type": "code",
   "outputs": [],
   "execution_count": null,
   "source": "",
   "id": "8804c19ca48cb25a"
  }
 ],
 "metadata": {
  "kernelspec": {
   "display_name": "Python 3",
   "language": "python",
   "name": "python3"
  },
  "language_info": {
   "codemirror_mode": {
    "name": "ipython",
    "version": 2
   },
   "file_extension": ".py",
   "mimetype": "text/x-python",
   "name": "python",
   "nbconvert_exporter": "python",
   "pygments_lexer": "ipython2",
   "version": "2.7.6"
  }
 },
 "nbformat": 4,
 "nbformat_minor": 5
}
