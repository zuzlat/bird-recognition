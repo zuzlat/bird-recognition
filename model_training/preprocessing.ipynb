{
 "cells": [
  {
   "cell_type": "code",
   "id": "initial_id",
   "metadata": {
    "collapsed": true,
    "ExecuteTime": {
     "end_time": "2024-12-06T18:56:13.026642Z",
     "start_time": "2024-12-06T18:56:12.006280Z"
    }
   },
   "source": [
    "import requests\n",
    "import json\n",
    "import os\n",
    "import librosa\n",
    "import librosa.display\n",
    "import matplotlib.pyplot as plt\n",
    "import numpy as np\n",
    "import scipy.signal as signal\n",
    "import soundfile as sf\n",
    "import random\n",
    "import shutil\n",
    "from pathlib import Path"
   ],
   "outputs": [],
   "execution_count": 1
  },
  {
   "metadata": {
    "ExecuteTime": {
     "end_time": "2024-12-01T20:56:35.581361Z",
     "start_time": "2024-12-01T20:56:35.552597Z"
    }
   },
   "cell_type": "code",
   "source": [
    "with open('D:/studia/bird_sound_recognition/spec_name.json', \"r\") as file:\n",
    "    spec_names = json.load(file)  "
   ],
   "id": "e249ff60308af342",
   "outputs": [],
   "execution_count": 2
  },
  {
   "metadata": {
    "ExecuteTime": {
     "end_time": "2024-12-01T20:58:01.981692Z",
     "start_time": "2024-12-01T20:58:01.977530Z"
    }
   },
   "cell_type": "code",
   "source": [
    "for specie in spec_names:\n",
    "    temp = specie.split()\n",
    "\n",
    "spec_names.sort()\n",
    "spec_names"
   ],
   "id": "3e7d1fff1b670111",
   "outputs": [
    {
     "data": {
      "text/plain": [
       "['Alauda arvensis',\n",
       " 'Apus apus',\n",
       " 'Bombycilla garrulus',\n",
       " 'Ciconia ciconia',\n",
       " 'Corvus cornix',\n",
       " 'Cyanistes caeruleus',\n",
       " 'Fringilla coelebs',\n",
       " 'Hirundo rustica',\n",
       " 'Luscinia megarhynchos',\n",
       " 'Passer domesticus',\n",
       " 'Phoenicurus ochruros',\n",
       " 'Phylloscopus collybita',\n",
       " 'Picus viridis',\n",
       " 'Streptopelia decaocto',\n",
       " 'Turdus merula']"
      ]
     },
     "execution_count": 10,
     "metadata": {},
     "output_type": "execute_result"
    }
   ],
   "execution_count": 10
  },
  {
   "metadata": {
    "ExecuteTime": {
     "end_time": "2024-11-28T20:15:47.905425Z",
     "start_time": "2024-11-28T20:15:25.153724Z"
    }
   },
   "cell_type": "code",
   "source": [
    "target_sample_rate = 22500  # Docelowy sampling rate\n",
    "# for specie in [\"Trash file\"]:  # Upewnij się, że spec_names jest zdefiniowane\n",
    "#     temp = specie.split()\n",
    "input_folder = f'D:\\studia/bird_sound_recognition\\data/recordings/unmodified/audio'\n",
    "output_folder = f'D:\\studia/bird_sound_recognitiondata/recordings/preprocessed/1_resampled_22-5kHz/Trash-class'\n",
    "os.makedirs(output_folder, exist_ok=True)  # Tworzy folder wyjściowy, jeśli nie istnieje\n",
    "\n",
    "# Przetwarzanie każdego pliku\n",
    "for file_name in os.listdir(input_folder):\n",
    "    if file_name.endswith(\".wav\"):\n",
    "        input_path = os.path.join(input_folder, file_name)\n",
    "        output_path = os.path.join(output_folder, os.path.splitext(file_name)[0] + \".wav\")\n",
    "\n",
    "        try:\n",
    "            # Wczytanie pliku MP3\n",
    "            audio, sr = librosa.load(input_path, sr=target_sample_rate)  # Resample do target_sample_rate\n",
    "\n",
    "            # Zapisanie pliku WAV z nowym sampling rate\n",
    "            sf.write(output_path, audio, target_sample_rate)\n",
    "\n",
    "        except Exception as e:\n",
    "            # Wyświetlenie błędu i nazwy problematycznego pliku\n",
    "            print(f\"Błąd podczas przetwarzania pliku: {input_path}\")\n",
    "            print(f\"Typ błędu: {type(e).__name__}, szczegóły: {e}\")\n"
   ],
   "id": "e8f9142b309a5f78",
   "outputs": [],
   "execution_count": 21
  },
  {
   "metadata": {
    "ExecuteTime": {
     "end_time": "2024-11-28T20:05:11.282142Z",
     "start_time": "2024-11-28T20:05:11.271139Z"
    }
   },
   "cell_type": "code",
   "source": "os.listdir(input_folder)[1]",
   "id": "48f412707dd683a8",
   "outputs": [
    {
     "data": {
      "text/plain": [
       "'Apus-apus'"
      ]
     },
     "execution_count": 9,
     "metadata": {},
     "output_type": "execute_result"
    }
   ],
   "execution_count": 9
  },
  {
   "metadata": {
    "ExecuteTime": {
     "end_time": "2024-11-28T20:10:47.133186Z",
     "start_time": "2024-11-28T20:10:47.111506Z"
    }
   },
   "cell_type": "code",
   "source": [
    "#foldery na nagrania\n",
    "for specie in spec_names:\n",
    "    temp = specie.split()\n",
    "    folder = os.path.join('data/recordings/preprocessed/1_resampled_22-5kHz', f'{temp[0]}-{temp[1]}')\n",
    "    os.makedirs(folder, exist_ok=True)"
   ],
   "id": "6660bdcd61aa05d0",
   "outputs": [],
   "execution_count": 17
  },
  {
   "metadata": {},
   "cell_type": "code",
   "outputs": [],
   "execution_count": null,
   "source": "",
   "id": "d57e1f48d911c20b"
  },
  {
   "metadata": {
    "ExecuteTime": {
     "end_time": "2024-11-25T12:46:43.127488Z",
     "start_time": "2024-11-25T12:29:57.795198Z"
    }
   },
   "cell_type": "code",
   "source": [
    "input_base_folder = \"data/recordings/preprocessed/1_resampled_22-5kHz\"\n",
    "output_base_folder = \"data/recordings/preprocessed/2_10-sec_len\"\n",
    "target_duration = 10  # Docelowa długość w sekundach\n",
    "\n",
    "# Tworzenie folderu wyjściowego, jeśli nie istnieje\n",
    "os.makedirs(output_base_folder, exist_ok=True)\n",
    "\n",
    "# Pobranie listy gatunków (nazwy podfolderów w input_base_folder)\n",
    "species_folders = [f for f in os.listdir(input_base_folder) if os.path.isdir(os.path.join(input_base_folder, f))]\n",
    "\n",
    "# Przetwarzanie nagrań dla każdego gatunku\n",
    "for species in [\"Trash-file\"]:\n",
    "    input_folder = os.path.join(input_base_folder, species)\n",
    "    output_folder = os.path.join(output_base_folder, species)\n",
    "    os.makedirs(output_folder, exist_ok=True)  # Tworzy folder dla danego gatunku, jeśli nie istnieje\n",
    "\n",
    "    # Przetwarzanie plików w folderze danego gatunku\n",
    "    for file_name in os.listdir(input_folder):\n",
    "        if file_name.endswith(\".wav\"):  # Tylko pliki WAV\n",
    "            input_path = os.path.join(input_folder, file_name)\n",
    "            output_path = os.path.join(output_folder, file_name)\n",
    "\n",
    "            try:\n",
    "                # Wczytanie pliku audio\n",
    "                audio, sr = librosa.load(input_path, sr=None)\n",
    "\n",
    "                # Obliczenie liczby próbek odpowiadającej 10 sekundom\n",
    "                max_samples = int(target_duration * sr)\n",
    "\n",
    "                # Obcinanie lub utrzymywanie oryginalnego rozmiaru\n",
    "                trimmed_audio = audio[:max_samples]\n",
    "\n",
    "                # Zapisanie obciętego pliku\n",
    "                sf.write(output_path, trimmed_audio, sr)\n",
    "\n",
    "            except Exception as e:\n",
    "                # Wyświetlenie błędu i nazwy problematycznego pliku\n",
    "                print(f\"Błąd podczas przetwarzania pliku: {input_path}\")\n",
    "                print(f\"Typ błędu: {type(e).__name__}, szczegóły: {e}\")"
   ],
   "id": "6accbf8c93d37a3a",
   "outputs": [],
   "execution_count": 12
  },
  {
   "metadata": {
    "ExecuteTime": {
     "end_time": "2024-11-28T20:18:16.658439Z",
     "start_time": "2024-11-28T20:17:51.008298Z"
    }
   },
   "cell_type": "code",
   "source": [
    "# Parametry filtru pasmowego\n",
    "low_cutoff = 400  # Dolna granica pasma (Hz)\n",
    "high_cutoff = 10000  # Górna granica pasma (Hz)\n",
    "sample_rate = 22500  # Częstotliwość próbkowania (Hz)\n",
    "order = 5  # Rząd filtru\n",
    "\n",
    "# Funkcja do zastosowania filtru pasmowego\n",
    "def bandpass_filter(audio, sr, low_cutoff, high_cutoff, order=5):\n",
    "    nyquist = 0.5 * sr  # Częstotliwość Nyquista\n",
    "    low = low_cutoff / nyquist\n",
    "    high = high_cutoff / nyquist\n",
    "    b, a = signal.butter(order, [low, high], btype='band')\n",
    "    filtered_audio = signal.filtfilt(b, a, audio)\n",
    "    return filtered_audio\n",
    "\n",
    "# Foldery wejściowe i wyjściowe\n",
    "input_folder = f'D:\\studia/bird_sound_recognition\\data/recordings/unmodified/audio'\n",
    "output_folder = f'D:\\studia/bird_sound_recognition\\data/recordings/preprocessed/3_bandpass-filter/Trash-class'\n",
    "\n",
    "# Tworzenie folderu wyjściowego, jeśli nie istnieje\n",
    "os.makedirs(output_base_folder, exist_ok=True)\n",
    "\n",
    "# Iteracja po gatunkach (podfolderach w folderze wejściowym)\n",
    "# for species in os.listdir(input_base_folder):\n",
    "#     input_folder = os.path.join(input_base_folder, species)\n",
    "#     output_folder = os.path.join(output_base_folder, species)\n",
    "\n",
    "# Tworzenie folderu wyjściowego dla gatunku\n",
    "os.makedirs(output_folder, exist_ok=True)\n",
    "\n",
    "# Iteracja po plikach w folderze gatunku\n",
    "for file_name in os.listdir(input_folder):\n",
    "    if file_name.endswith(\".wav\"):\n",
    "        input_path = os.path.join(input_folder, file_name)\n",
    "        output_path = os.path.join(output_folder, file_name)\n",
    "\n",
    "        try:\n",
    "            # Wczytanie pliku audio\n",
    "            audio, sr = librosa.load(input_path, sr=sample_rate)\n",
    "\n",
    "            # Zastosowanie filtru pasmowego\n",
    "            filtered_audio = bandpass_filter(audio, sr, low_cutoff, high_cutoff, order)\n",
    "\n",
    "            # Zapisanie przefiltrowanego pliku\n",
    "            sf.write(output_path, filtered_audio, sr)\n",
    "\n",
    "            # print(f\"Przetworzono {file_name} -> {output_path}\")\n",
    "        except Exception as e:\n",
    "            print(f\"Błąd przy przetwarzaniu {input_path}: {e}\")"
   ],
   "id": "f3d2b9d3eae48873",
   "outputs": [],
   "execution_count": 22
  },
  {
   "metadata": {
    "ExecuteTime": {
     "end_time": "2024-12-01T21:15:30.073795Z",
     "start_time": "2024-12-01T21:15:30.060475Z"
    }
   },
   "cell_type": "code",
   "source": [
    "list = os.listdir(\"D:\\studia/bird_sound_recognition\\data/recordings\\preprocessed/3_bandpass-filter\")\n",
    "list"
   ],
   "id": "a725cb0265adfe09",
   "outputs": [
    {
     "data": {
      "text/plain": [
       "['Alauda-arvensis',\n",
       " 'Apus-apus',\n",
       " 'Bombycilla-garrulus',\n",
       " 'Ciconia-ciconia',\n",
       " 'Corvus-cornix',\n",
       " 'Cyanistes-caeruleus',\n",
       " 'Fringilla-coelebs',\n",
       " 'Hirundo-rustica',\n",
       " 'Luscinia-megarhynchos',\n",
       " 'Passer-domesticus',\n",
       " 'Phoenicurus-ochruros',\n",
       " 'Phylloscopus-collybita',\n",
       " 'Picus-viridis',\n",
       " 'Streptopelia-decaocto',\n",
       " 'Trash-class',\n",
       " 'Turdus-merula']"
      ]
     },
     "execution_count": 12,
     "metadata": {},
     "output_type": "execute_result"
    }
   ],
   "execution_count": 12
  },
  {
   "metadata": {
    "ExecuteTime": {
     "end_time": "2024-12-01T21:30:02.745449Z",
     "start_time": "2024-12-01T21:25:35.944052Z"
    }
   },
   "cell_type": "code",
   "source": [
    "# Parametry Melspektrogramu\n",
    "n_mels = 512  # Liczba pasm Mel\n",
    "n_fft = 2048  # Rozmiar okna FFT\n",
    "hop_length = 512  # Przesunięcie okna\n",
    "win_length = 2048  # Długość okna\n",
    "fmin = 20  # Minimalna częstotliwość\n",
    "fmax = 11025  # Maksymalna częstotliwość (1/2 częstotliwości próbkowania)\n",
    "\n",
    "# Parametry obrazu\n",
    "image_width = 438  # Liczba klatek\n",
    "image_height = 256  # Liczba pasm Mel\n",
    "\n",
    "# Foldery wejściowe i wyjściowe\n",
    "input_base_folder = \"D:\\studia/bird_sound_recognition\\data/recordings\\preprocessed/3_bandpass-filter\"\n",
    "output_base_folder = f\"D:\\studia/bird_sound_recognition\\data\\melspectrograms/{n_mels}_mel-bands\"\n",
    "\n",
    "# Tworzenie folderu wyjściowego, jeśli nie istnieje\n",
    "os.makedirs(output_base_folder, exist_ok=True)\n",
    "list = os.listdir(input_base_folder)\n",
    "\n",
    "# Iteracja po gatunkach (podfolderach w folderze wejściowym)\n",
    "for specie in list[13]:\n",
    "    print(specie)\n",
    "    specie = 'Streptopelia-decaocto'\n",
    "    input_folder = os.path.join(input_base_folder, specie)\n",
    "    output_folder = os.path.join(output_base_folder, specie)\n",
    "\n",
    "    # Tworzenie folderu wyjściowego dla gatunku\n",
    "    os.makedirs(output_folder, exist_ok=True)\n",
    "    \n",
    "    # Iteracja po plikach w folderze gatunku\n",
    "    for file_name in os.listdir(input_folder):\n",
    "        if file_name.endswith(\".wav\"):\n",
    "            input_path = os.path.join(input_folder, file_name)\n",
    "            output_path = os.path.join(output_folder, os.path.splitext(file_name)[0] + \".png\")\n",
    "    \n",
    "            try:\n",
    "                # Wczytanie pliku audio\n",
    "                audio, sr = librosa.load(input_path, sr=22500)\n",
    "    \n",
    "                # Obliczanie melspektrogramu\n",
    "                mel_spectrogram = librosa.feature.melspectrogram(\n",
    "                    y=audio, sr=sr, n_mels=n_mels, n_fft=n_fft,\n",
    "                    hop_length=hop_length, win_length=win_length, fmin=fmin, fmax=fmax\n",
    "                )\n",
    "    \n",
    "                # Przekształcenie melspektrogramu na dB\n",
    "                mel_db = librosa.power_to_db(mel_spectrogram, ref=np.max)\n",
    "    \n",
    "                # Rysowanie melspektrogramu bez legendy (bez colorbar)\n",
    "                plt.figure(figsize=(image_width / 100, image_height / 100), dpi=100)\n",
    "                librosa.display.specshow(mel_db, x_axis='time', y_axis='mel', sr=sr)\n",
    "    \n",
    "                # Usunięcie paska kolorów (colorbar)\n",
    "                plt.axis('off')  # Usunięcie osi\n",
    "                plt.subplots_adjust(left=0, right=1, top=1, bottom=0)  # Usunięcie marginesów\n",
    "    \n",
    "                # Zapisanie obrazu bez paska kolorów\n",
    "                plt.savefig(output_path, bbox_inches='tight', pad_inches=0, transparent=True)\n",
    "                plt.close()\n",
    "    \n",
    "                # print(f\"Przetworzono {file_name} -> {output_path}\")\n",
    "            except Exception as e:\n",
    "                print(f\"Błąd przy przetwarzaniu {input_path}: {e}\")\n"
   ],
   "id": "2447a9f662e1bdb9",
   "outputs": [
    {
     "name": "stdout",
     "output_type": "stream",
     "text": [
      "S\n",
      "t\n",
      "r\n"
     ]
    },
    {
     "ename": "KeyboardInterrupt",
     "evalue": "",
     "output_type": "error",
     "traceback": [
      "\u001B[1;31m---------------------------------------------------------------------------\u001B[0m",
      "\u001B[1;31mKeyboardInterrupt\u001B[0m                         Traceback (most recent call last)",
      "Cell \u001B[1;32mIn[24], line 39\u001B[0m\n\u001B[0;32m     35\u001B[0m output_path \u001B[38;5;241m=\u001B[39m os\u001B[38;5;241m.\u001B[39mpath\u001B[38;5;241m.\u001B[39mjoin(output_folder, os\u001B[38;5;241m.\u001B[39mpath\u001B[38;5;241m.\u001B[39msplitext(file_name)[\u001B[38;5;241m0\u001B[39m] \u001B[38;5;241m+\u001B[39m \u001B[38;5;124m\"\u001B[39m\u001B[38;5;124m.png\u001B[39m\u001B[38;5;124m\"\u001B[39m)\n\u001B[0;32m     37\u001B[0m \u001B[38;5;28;01mtry\u001B[39;00m:\n\u001B[0;32m     38\u001B[0m     \u001B[38;5;66;03m# Wczytanie pliku audio\u001B[39;00m\n\u001B[1;32m---> 39\u001B[0m     audio, sr \u001B[38;5;241m=\u001B[39m \u001B[43mlibrosa\u001B[49m\u001B[38;5;241;43m.\u001B[39;49m\u001B[43mload\u001B[49m\u001B[43m(\u001B[49m\u001B[43minput_path\u001B[49m\u001B[43m,\u001B[49m\u001B[43m \u001B[49m\u001B[43msr\u001B[49m\u001B[38;5;241;43m=\u001B[39;49m\u001B[38;5;241;43m22500\u001B[39;49m\u001B[43m)\u001B[49m\n\u001B[0;32m     41\u001B[0m     \u001B[38;5;66;03m# Obliczanie melspektrogramu\u001B[39;00m\n\u001B[0;32m     42\u001B[0m     mel_spectrogram \u001B[38;5;241m=\u001B[39m librosa\u001B[38;5;241m.\u001B[39mfeature\u001B[38;5;241m.\u001B[39mmelspectrogram(\n\u001B[0;32m     43\u001B[0m         y\u001B[38;5;241m=\u001B[39maudio, sr\u001B[38;5;241m=\u001B[39msr, n_mels\u001B[38;5;241m=\u001B[39mn_mels, n_fft\u001B[38;5;241m=\u001B[39mn_fft,\n\u001B[0;32m     44\u001B[0m         hop_length\u001B[38;5;241m=\u001B[39mhop_length, win_length\u001B[38;5;241m=\u001B[39mwin_length, fmin\u001B[38;5;241m=\u001B[39mfmin, fmax\u001B[38;5;241m=\u001B[39mfmax\n\u001B[0;32m     45\u001B[0m     )\n",
      "File \u001B[1;32mD:\\studia\\bird_sound_recognition\\.venv\\lib\\site-packages\\librosa\\core\\audio.py:176\u001B[0m, in \u001B[0;36mload\u001B[1;34m(path, sr, mono, offset, duration, dtype, res_type)\u001B[0m\n\u001B[0;32m    173\u001B[0m \u001B[38;5;28;01melse\u001B[39;00m:\n\u001B[0;32m    174\u001B[0m     \u001B[38;5;66;03m# Otherwise try soundfile first, and then fall back if necessary\u001B[39;00m\n\u001B[0;32m    175\u001B[0m     \u001B[38;5;28;01mtry\u001B[39;00m:\n\u001B[1;32m--> 176\u001B[0m         y, sr_native \u001B[38;5;241m=\u001B[39m \u001B[43m__soundfile_load\u001B[49m\u001B[43m(\u001B[49m\u001B[43mpath\u001B[49m\u001B[43m,\u001B[49m\u001B[43m \u001B[49m\u001B[43moffset\u001B[49m\u001B[43m,\u001B[49m\u001B[43m \u001B[49m\u001B[43mduration\u001B[49m\u001B[43m,\u001B[49m\u001B[43m \u001B[49m\u001B[43mdtype\u001B[49m\u001B[43m)\u001B[49m\n\u001B[0;32m    178\u001B[0m     \u001B[38;5;28;01mexcept\u001B[39;00m sf\u001B[38;5;241m.\u001B[39mSoundFileRuntimeError \u001B[38;5;28;01mas\u001B[39;00m exc:\n\u001B[0;32m    179\u001B[0m         \u001B[38;5;66;03m# If soundfile failed, try audioread instead\u001B[39;00m\n\u001B[0;32m    180\u001B[0m         \u001B[38;5;28;01mif\u001B[39;00m \u001B[38;5;28misinstance\u001B[39m(path, (\u001B[38;5;28mstr\u001B[39m, pathlib\u001B[38;5;241m.\u001B[39mPurePath)):\n",
      "File \u001B[1;32mD:\\studia\\bird_sound_recognition\\.venv\\lib\\site-packages\\librosa\\core\\audio.py:209\u001B[0m, in \u001B[0;36m__soundfile_load\u001B[1;34m(path, offset, duration, dtype)\u001B[0m\n\u001B[0;32m    206\u001B[0m     context \u001B[38;5;241m=\u001B[39m path\n\u001B[0;32m    207\u001B[0m \u001B[38;5;28;01melse\u001B[39;00m:\n\u001B[0;32m    208\u001B[0m     \u001B[38;5;66;03m# Otherwise, create the soundfile object\u001B[39;00m\n\u001B[1;32m--> 209\u001B[0m     context \u001B[38;5;241m=\u001B[39m \u001B[43msf\u001B[49m\u001B[38;5;241;43m.\u001B[39;49m\u001B[43mSoundFile\u001B[49m\u001B[43m(\u001B[49m\u001B[43mpath\u001B[49m\u001B[43m)\u001B[49m\n\u001B[0;32m    211\u001B[0m \u001B[38;5;28;01mwith\u001B[39;00m context \u001B[38;5;28;01mas\u001B[39;00m sf_desc:\n\u001B[0;32m    212\u001B[0m     sr_native \u001B[38;5;241m=\u001B[39m sf_desc\u001B[38;5;241m.\u001B[39msamplerate\n",
      "File \u001B[1;32mD:\\studia\\bird_sound_recognition\\.venv\\lib\\site-packages\\soundfile.py:658\u001B[0m, in \u001B[0;36mSoundFile.__init__\u001B[1;34m(self, file, mode, samplerate, channels, subtype, endian, format, closefd)\u001B[0m\n\u001B[0;32m    655\u001B[0m \u001B[38;5;28mself\u001B[39m\u001B[38;5;241m.\u001B[39m_mode \u001B[38;5;241m=\u001B[39m mode\n\u001B[0;32m    656\u001B[0m \u001B[38;5;28mself\u001B[39m\u001B[38;5;241m.\u001B[39m_info \u001B[38;5;241m=\u001B[39m _create_info_struct(file, mode, samplerate, channels,\n\u001B[0;32m    657\u001B[0m                                  \u001B[38;5;28mformat\u001B[39m, subtype, endian)\n\u001B[1;32m--> 658\u001B[0m \u001B[38;5;28mself\u001B[39m\u001B[38;5;241m.\u001B[39m_file \u001B[38;5;241m=\u001B[39m \u001B[38;5;28;43mself\u001B[39;49m\u001B[38;5;241;43m.\u001B[39;49m\u001B[43m_open\u001B[49m\u001B[43m(\u001B[49m\u001B[43mfile\u001B[49m\u001B[43m,\u001B[49m\u001B[43m \u001B[49m\u001B[43mmode_int\u001B[49m\u001B[43m,\u001B[49m\u001B[43m \u001B[49m\u001B[43mclosefd\u001B[49m\u001B[43m)\u001B[49m\n\u001B[0;32m    659\u001B[0m \u001B[38;5;28;01mif\u001B[39;00m \u001B[38;5;28mset\u001B[39m(mode)\u001B[38;5;241m.\u001B[39missuperset(\u001B[38;5;124m'\u001B[39m\u001B[38;5;124mr+\u001B[39m\u001B[38;5;124m'\u001B[39m) \u001B[38;5;129;01mand\u001B[39;00m \u001B[38;5;28mself\u001B[39m\u001B[38;5;241m.\u001B[39mseekable():\n\u001B[0;32m    660\u001B[0m     \u001B[38;5;66;03m# Move write position to 0 (like in Python file objects)\u001B[39;00m\n\u001B[0;32m    661\u001B[0m     \u001B[38;5;28mself\u001B[39m\u001B[38;5;241m.\u001B[39mseek(\u001B[38;5;241m0\u001B[39m)\n",
      "File \u001B[1;32mD:\\studia\\bird_sound_recognition\\.venv\\lib\\site-packages\\soundfile.py:1205\u001B[0m, in \u001B[0;36mSoundFile._open\u001B[1;34m(self, file, mode_int, closefd)\u001B[0m\n\u001B[0;32m   1203\u001B[0m         \u001B[38;5;28;01melse\u001B[39;00m:\n\u001B[0;32m   1204\u001B[0m             file \u001B[38;5;241m=\u001B[39m file\u001B[38;5;241m.\u001B[39mencode(_sys\u001B[38;5;241m.\u001B[39mgetfilesystemencoding())\n\u001B[1;32m-> 1205\u001B[0m     file_ptr \u001B[38;5;241m=\u001B[39m \u001B[43mopenfunction\u001B[49m\u001B[43m(\u001B[49m\u001B[43mfile\u001B[49m\u001B[43m,\u001B[49m\u001B[43m \u001B[49m\u001B[43mmode_int\u001B[49m\u001B[43m,\u001B[49m\u001B[43m \u001B[49m\u001B[38;5;28;43mself\u001B[39;49m\u001B[38;5;241;43m.\u001B[39;49m\u001B[43m_info\u001B[49m\u001B[43m)\u001B[49m\n\u001B[0;32m   1206\u001B[0m \u001B[38;5;28;01melif\u001B[39;00m \u001B[38;5;28misinstance\u001B[39m(file, \u001B[38;5;28mint\u001B[39m):\n\u001B[0;32m   1207\u001B[0m     file_ptr \u001B[38;5;241m=\u001B[39m _snd\u001B[38;5;241m.\u001B[39msf_open_fd(file, mode_int, \u001B[38;5;28mself\u001B[39m\u001B[38;5;241m.\u001B[39m_info, closefd)\n",
      "\u001B[1;31mKeyboardInterrupt\u001B[0m: "
     ]
    }
   ],
   "execution_count": 24
  },
  {
   "metadata": {
    "ExecuteTime": {
     "end_time": "2024-12-06T18:57:23.253111Z",
     "start_time": "2024-12-06T18:57:23.243781Z"
    }
   },
   "cell_type": "code",
   "source": [
    "n_mels = 512  # Liczba mel-bands (można dostosować)\n",
    "# Proporcje podziału na zbiory\n",
    "train_ratio = 0.75\n",
    "val_ratio = 0.15\n",
    "test_ratio = 0.10"
   ],
   "id": "391d56b7509ac811",
   "outputs": [],
   "execution_count": 2
  },
  {
   "metadata": {
    "ExecuteTime": {
     "end_time": "2024-12-06T18:58:40.749974Z",
     "start_time": "2024-12-06T18:57:28.634022Z"
    }
   },
   "cell_type": "code",
   "source": [
    "# Ustawienia\n",
    "input_folder = Path(f\"D:/studia/bird_sound_recognition/data/melspectrograms/{n_mels}_mel-bands\")\n",
    "output_folder = Path(f\"D:/studia/bird_sound_recognition/data/training2/split_{n_mels}-mel\")\n",
    "\n",
    "# Upewnij się, że folder wyjściowy istnieje\n",
    "for split in ['train', 'val', 'test']:\n",
    "    (output_folder / split).mkdir(parents=True, exist_ok=True)\n",
    "\n",
    "# Iteracja po klasach (folderach)\n",
    "for class_folder in input_folder.iterdir():\n",
    "    if class_folder.is_dir():\n",
    "        class_name = class_folder.name\n",
    "        files = list(class_folder.glob(\"*.png\"))  # Zakładamy, że pliki są w formacie .png\n",
    "\n",
    "        # Wymieszaj pliki losowo\n",
    "        random.shuffle(files)\n",
    "\n",
    "        # Oblicz liczby plików dla każdego zbioru\n",
    "        num_files = len(files)\n",
    "        train_count = int(train_ratio * num_files)\n",
    "        val_count = int(val_ratio * num_files)\n",
    "        test_count = num_files - train_count - val_count  # Pozostałe pliki idą na test\n",
    "\n",
    "        # Podziel pliki na treningowy, walidacyjny i testowy\n",
    "        train_files = files[:train_count]\n",
    "        val_files = files[train_count:train_count + val_count]\n",
    "        test_files = files[train_count + val_count:]\n",
    "\n",
    "        # Kopiowanie plików do odpowiednich folderów\n",
    "        for split, split_files in zip(['train', 'val', 'test'], [train_files, val_files, test_files]):\n",
    "            split_class_folder = output_folder / split / class_name\n",
    "            split_class_folder.mkdir(parents=True, exist_ok=True)\n",
    "\n",
    "            for file in split_files:\n",
    "                shutil.copy(file, split_class_folder)\n",
    "\n",
    "print(\"Podział danych zakończony!\")\n"
   ],
   "id": "d607814063b86515",
   "outputs": [
    {
     "name": "stdout",
     "output_type": "stream",
     "text": [
      "Podział danych zakończony!\n"
     ]
    }
   ],
   "execution_count": 3
  },
  {
   "metadata": {},
   "cell_type": "code",
   "outputs": [],
   "execution_count": null,
   "source": "",
   "id": "5c69fe024cc15340"
  }
 ],
 "metadata": {
  "kernelspec": {
   "display_name": "Python 3",
   "language": "python",
   "name": "python3"
  },
  "language_info": {
   "codemirror_mode": {
    "name": "ipython",
    "version": 2
   },
   "file_extension": ".py",
   "mimetype": "text/x-python",
   "name": "python",
   "nbconvert_exporter": "python",
   "pygments_lexer": "ipython2",
   "version": "2.7.6"
  }
 },
 "nbformat": 4,
 "nbformat_minor": 5
}
